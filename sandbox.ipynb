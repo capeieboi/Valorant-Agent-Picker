{
 "cells": [
  {
   "cell_type": "code",
   "execution_count": null,
   "metadata": {},
   "outputs": [],
   "source": [
    "import requests\n",
    "# The API endpoint\n",
    "uid = \"Nakula\"\n",
    "tag = \"1380\"\n",
    "filter = [\"escalation\", \"spikerush\", \"deathmatch\", \"competitive\", \"unrated\", \"replication\"]\n",
    "url = \"https://api.henrikdev.xyz/valorant/v3/matches/ap/\"+uid+\"/\"+tag+\"?filter=\"+filter[3]\n",
    "\n",
    "# A GET request to the API\n",
    "response = requests.get(url)\n",
    "\n",
    "# Print the response\n",
    "response_json = response.json()\n",
    "print(response_json)"
   ]
  },
  {
   "cell_type": "code",
   "execution_count": 40,
   "metadata": {},
   "outputs": [
    {
     "name": "stdout",
     "output_type": "stream",
     "text": [
      "10\n"
     ]
    }
   ],
   "source": [
    "data = {}\n",
    "data = response_json['data'][0]['players']\n",
    "print(len(data['all_players']))"
   ]
  },
  {
   "cell_type": "code",
   "execution_count": null,
   "metadata": {},
   "outputs": [],
   "source": []
  }
 ],
 "metadata": {
  "kernelspec": {
   "display_name": "Python 3",
   "language": "python",
   "name": "python3"
  },
  "language_info": {
   "codemirror_mode": {
    "name": "ipython",
    "version": 3
   },
   "file_extension": ".py",
   "mimetype": "text/x-python",
   "name": "python",
   "nbconvert_exporter": "python",
   "pygments_lexer": "ipython3",
   "version": "3.8.0"
  },
  "orig_nbformat": 4,
  "vscode": {
   "interpreter": {
    "hash": "ad6363d6736d9113f942e4717d80ee2b6ad5cd54aa70febcfcd0e19d8c83055f"
   }
  }
 },
 "nbformat": 4,
 "nbformat_minor": 2
}
